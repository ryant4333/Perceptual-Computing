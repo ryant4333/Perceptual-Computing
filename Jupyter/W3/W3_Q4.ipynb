{
 "cells": [
  {
   "cell_type": "code",
   "execution_count": 1,
   "metadata": {},
   "outputs": [],
   "source": [
    "import cv2\n",
    "import numpy as np\n",
    "import math\n",
    "from matplotlib import pyplot as plt\n",
    "\n",
    "img = cv2.imread('face1.jpg')\n",
    "\n",
    "#cv2.imshow('Creepy Kids', img)\n",
    "#cv2.waitKey(0)\n",
    "#cv2.destroyAllWindows()"
   ]
  },
  {
   "cell_type": "code",
   "execution_count": 18,
   "metadata": {},
   "outputs": [],
   "source": [
    "#This block is for changing colors of image\n",
    "\n",
    "for row in range(len(img)):\n",
    "    for pixel in img[row]:\n",
    "        pixel[0] *= 1 #Blue\n",
    "        pixel[1] *= 1 #Green\n",
    "        pixel[2] *= 1 #Red"
   ]
  },
  {
   "cell_type": "code",
   "execution_count": 6,
   "metadata": {},
   "outputs": [
    {
     "data": {
      "text/plain": [
       "True"
      ]
     },
     "execution_count": 6,
     "metadata": {},
     "output_type": "execute_result"
    }
   ],
   "source": [
    "#Filter2D define a kernel\n",
    "\n",
    "kernel = np.ones((3, 3), np.float32)/9\n",
    "dst = cv2.filter2D(img, -1, kernel)\n",
    "cv2.imwrite(\"blur1.jpg\", dst)\n",
    "kernel2 = np.array([[1,2,1],[2,4,2],[1,2,1]])/16\n",
    "dst2 = cv2.filter2D(img, -1, kernel2)\n",
    "cv2.imwrite(\"blur2.jpg\", dst2)"
   ]
  },
  {
   "cell_type": "code",
   "execution_count": 6,
   "metadata": {},
   "outputs": [],
   "source": [
    "\n",
    "def G_1D(x, y, z):\n",
    "    sum = 0\n",
    "    kernel = np.array([1,2,1])\n",
    "    for i in range(-1, 2):\n",
    "        sum += kernel[i+1] * img[x][y+i][z]\n",
    "    sum/=4\n",
    "    return sum\n",
    "    \n",
    "def H_1D(x, y, z):\n",
    "    sum = 0\n",
    "    kernel = np.array([[1],[2],[1]])\n",
    "    for i in range(-1, 2):\n",
    "        sum += kernel[i+1] * img[x+i][y][z]\n",
    "    sum = sum /4\n",
    "    return sum    "
   ]
  },
  {
   "cell_type": "code",
   "execution_count": 7,
   "metadata": {},
   "outputs": [],
   "source": [
    "h = len(img)\n",
    "w = len(img[0])\n",
    "\n",
    "for i in range(0, h):\n",
    "    for j in range(1, w-1):\n",
    "        for k in range(3):\n",
    "            img[i][j][k] = G_1D(i, j, k)\n",
    "\n",
    "for i in range(1, h-1):\n",
    "    for j in range(0, w):\n",
    "        for k in range(3):\n",
    "            img[i][j][k] = H_1D(i, j, k)\n",
    "\n",
    "            "
   ]
  },
  {
   "cell_type": "code",
   "execution_count": 9,
   "metadata": {},
   "outputs": [],
   "source": [
    "cv2.imshow('Creepy Kids', img)\n",
    "cv2.waitKey(0)\n",
    "cv2.destroyAllWindows()"
   ]
  },
  {
   "cell_type": "code",
   "execution_count": 5,
   "metadata": {},
   "outputs": [],
   "source": [
    "cv2.imshow('Creepy Kids', dst2)\n",
    "cv2.waitKey(0)\n",
    "cv2.destroyAllWindows()"
   ]
  },
  {
   "cell_type": "code",
   "execution_count": null,
   "metadata": {},
   "outputs": [],
   "source": [
    "\n",
    "\n",
    "kernel = np.ones((5,5), np.float32)/25\n",
    "dst = cv2.filter2D(img, -1, kernel)\n",
    "\n",
    "plt.subplot(121), plt.imshow(img), plt.title('Origial')\n",
    "plt.xticks([]), plt.yticks([])\n",
    "plt.subplot(122), plt.imshow(img), plt.title('Averaging')\n",
    "plt.xticks([]), plt.yticks([])\n",
    "plt.show()"
   ]
  }
 ],
 "metadata": {
  "kernelspec": {
   "display_name": "Python 3",
   "language": "python",
   "name": "python3"
  },
  "language_info": {
   "codemirror_mode": {
    "name": "ipython",
    "version": 3
   },
   "file_extension": ".py",
   "mimetype": "text/x-python",
   "name": "python",
   "nbconvert_exporter": "python",
   "pygments_lexer": "ipython3",
   "version": "3.7.4"
  }
 },
 "nbformat": 4,
 "nbformat_minor": 2
}
